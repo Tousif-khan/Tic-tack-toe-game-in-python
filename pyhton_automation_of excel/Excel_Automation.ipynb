{
  "nbformat": 4,
  "nbformat_minor": 0,
  "metadata": {
    "colab": {
      "name": "Excel-Automation.ipynb",
      "provenance": [],
      "collapsed_sections": []
    },
    "kernelspec": {
      "name": "python3",
      "display_name": "Python 3"
    },
    "language_info": {
      "name": "python"
    }
  },
  "cells": [
    {
      "cell_type": "markdown",
      "metadata": {
        "id": "pz1iYgEbBbUu"
      },
      "source": [
        "#import files\n"
      ]
    },
    {
      "cell_type": "code",
      "metadata": {
        "id": "Kj7HLgyOgSMY"
      },
      "source": [
        "import pandas as pd\n",
        "import numpy as np\n",
        "from pandas import ExcelWriter\n",
        "from pandas import ExcelFile"
      ],
      "execution_count": null,
      "outputs": []
    },
    {
      "cell_type": "code",
      "metadata": {
        "id": "KX1sxCG6smbi"
      },
      "source": [
        "source=pd.ExcelFile('BW_CPFR_OUTLET_HU10.xls')\n",
        "sales=pd.read_excel('BW_SDS_HU10(006).xls',header=1)\n",
        "writer = ExcelWriter('Top5NS_Report.xlsx')\n"
      ],
      "execution_count": null,
      "outputs": []
    },
    {
      "cell_type": "code",
      "metadata": {
        "colab": {
          "base_uri": "https://localhost:8080/",
          "height": 246
        },
        "id": "vfFtISsDBKe_",
        "outputId": "415c059d-4593-4d45-9f4a-c09f67506bd2"
      },
      "source": [
        "sales.head()"
      ],
      "execution_count": null,
      "outputs": [
        {
          "output_type": "execute_result",
          "data": {
            "text/html": [
              "<div>\n",
              "<style scoped>\n",
              "    .dataframe tbody tr th:only-of-type {\n",
              "        vertical-align: middle;\n",
              "    }\n",
              "\n",
              "    .dataframe tbody tr th {\n",
              "        vertical-align: top;\n",
              "    }\n",
              "\n",
              "    .dataframe thead th {\n",
              "        text-align: right;\n",
              "    }\n",
              "</style>\n",
              "<table border=\"1\" class=\"dataframe\">\n",
              "  <thead>\n",
              "    <tr style=\"text-align: right;\">\n",
              "      <th></th>\n",
              "      <th>Calendar Year/Month</th>\n",
              "      <th>Calendar Year/Week</th>\n",
              "      <th>Customer</th>\n",
              "      <th>Europe Prod Hier 3</th>\n",
              "      <th>Material</th>\n",
              "      <th>Material Name</th>\n",
              "      <th>Sales Quantity</th>\n",
              "      <th>P5 Net Sales EUR</th>\n",
              "      <th>P5 Net Sales LC</th>\n",
              "    </tr>\n",
              "  </thead>\n",
              "  <tbody>\n",
              "    <tr>\n",
              "      <th>0</th>\n",
              "      <td>9.2013</td>\n",
              "      <td>36.2013</td>\n",
              "      <td>290010221</td>\n",
              "      <td>SCPCTMELCD</td>\n",
              "      <td>KDL40R470ABAEP</td>\n",
              "      <td>40\" CONSUMER LCD</td>\n",
              "      <td>1</td>\n",
              "      <td>3.46</td>\n",
              "      <td>1042.16</td>\n",
              "    </tr>\n",
              "    <tr>\n",
              "      <th>1</th>\n",
              "      <td>9.2013</td>\n",
              "      <td>36.2013</td>\n",
              "      <td>290010221</td>\n",
              "      <td>SCPIITESLT</td>\n",
              "      <td>SGPT131E2/S.E2</td>\n",
              "      <td>SGPT131E2/S</td>\n",
              "      <td>20</td>\n",
              "      <td>73.46</td>\n",
              "      <td>21752.97</td>\n",
              "    </tr>\n",
              "    <tr>\n",
              "      <th>2</th>\n",
              "      <td>9.2013</td>\n",
              "      <td>36.2013</td>\n",
              "      <td>290010320</td>\n",
              "      <td>SCPCVSEEV1</td>\n",
              "      <td>MEXBT4100U.EUR</td>\n",
              "      <td>BT STEPUP 1WIRE</td>\n",
              "      <td>6</td>\n",
              "      <td>20.91</td>\n",
              "      <td>6248.67</td>\n",
              "    </tr>\n",
              "    <tr>\n",
              "      <th>3</th>\n",
              "      <td>9.2013</td>\n",
              "      <td>36.2013</td>\n",
              "      <td>290010320</td>\n",
              "      <td>SCPCVSEEV1</td>\n",
              "      <td>XMGTX6041.EUR</td>\n",
              "      <td>GTX SERIES 60WX4CH</td>\n",
              "      <td>2</td>\n",
              "      <td>18.59</td>\n",
              "      <td>5586.49</td>\n",
              "    </tr>\n",
              "    <tr>\n",
              "      <th>4</th>\n",
              "      <td>9.2013</td>\n",
              "      <td>36.2013</td>\n",
              "      <td>290010320</td>\n",
              "      <td>SCPCVSEEV1</td>\n",
              "      <td>XSGT1328F.EUR</td>\n",
              "      <td>GT-F SPEAKER  13CM 2WAY</td>\n",
              "      <td>10</td>\n",
              "      <td>4.19</td>\n",
              "      <td>1250.35</td>\n",
              "    </tr>\n",
              "  </tbody>\n",
              "</table>\n",
              "</div>"
            ],
            "text/plain": [
              "   Calendar Year/Month  Calendar Year/Week  ...  P5 Net Sales EUR P5 Net Sales LC\n",
              "0               9.2013             36.2013  ...              3.46         1042.16\n",
              "1               9.2013             36.2013  ...             73.46        21752.97\n",
              "2               9.2013             36.2013  ...             20.91         6248.67\n",
              "3               9.2013             36.2013  ...             18.59         5586.49\n",
              "4               9.2013             36.2013  ...              4.19         1250.35\n",
              "\n",
              "[5 rows x 9 columns]"
            ]
          },
          "metadata": {
            "tags": []
          },
          "execution_count": 6
        }
      ]
    },
    {
      "cell_type": "code",
      "metadata": {
        "id": "vL_qggjFRSH9"
      },
      "source": [
        "def create_avg_sell(sales):\n",
        "  ''' Create avg sell price for each material''' \n",
        "  unique_material= sales['Material'].unique()\n",
        "  num_of_unique_products = len(unique_material)\n",
        "  prod_avg={}\n",
        "  for item in unique_material:\n",
        "    small_sales=sales[sales['Material']==item]\n",
        "    total_sales=small_sales['P5 Net Sales EUR'].sum()\n",
        "    total_quantity=small_sales['Sales Quantity'].sum()\n",
        "    if total_quantity>0:\n",
        "      avg = round(total_sales/total_quantity,4) \n",
        "      prod_avg[item]=round(avg,4)\n",
        "  return prod_avg"
      ],
      "execution_count": null,
      "outputs": []
    },
    {
      "cell_type": "code",
      "metadata": {
        "id": "g_p_3kVsSBdD"
      },
      "source": [
        "def create_top_products(current_sheet,dict_prod_avg):\n",
        "  material_list_current_sheet=current_sheet['Material'].unique()\n",
        "  dict_sellout_NS={}\n",
        "  for item in material_list_current_sheet:\n",
        "    filtered_sheet= current_sheet[current_sheet['Material']==item]\n",
        "    sell_through_quantity = filtered_sheet['Sellthru Qty'].sum()\n",
        "    dict_sellout_NS[item]=round(sell_through_quantity*dict_prod_avg.get(item,0),2)\n",
        "  sorted_sellout = sorted(dict_sellout_NS.items(), key=lambda x: (-x[1],x[0]))\n",
        "  return sorted_sellout\n",
        "  \n"
      ],
      "execution_count": null,
      "outputs": []
    },
    {
      "cell_type": "code",
      "metadata": {
        "id": "CVBh4edekq6U"
      },
      "source": [
        "def create_sell_ratio(df_weekly_sale,sorted_sellout):\n",
        "  total_weekly_sale= df_weekly_sale['P5 Net Sales EUR'].sum()\n",
        "  product_profit_ratios=[]\n",
        "  if total_weekly_sale>0:\n",
        "    for i in range(len(sorted_sellout)):\n",
        "      product_profit_ratios.append(round(sorted_sellout[i][1]/total_weekly_sale*100,4))\n",
        "  return product_profit_ratios"
      ],
      "execution_count": null,
      "outputs": []
    },
    {
      "cell_type": "code",
      "metadata": {
        "id": "KQAGbbXYlGs4"
      },
      "source": [
        "def create_customer_list(df_weekly_sale):\n",
        "  dict_customer_earn={}\n",
        "  unique_customers = df_weekly_sale['Customer'].unique()\n",
        "  for cus in unique_customers:\n",
        "    df_weekly_sale_for_customers = df_weekly_sale[df_weekly_sale['Customer']==cus]\n",
        "    dict_customer_earn[cus]=round(df_weekly_sale_for_customers['P5 Net Sales EUR'].sum(),2)\n",
        "  sorted_customer_earn = sorted(dict_customer_earn.items(), key = lambda x: (-x[1],x[0]))\n",
        "  return sorted_customer_earn"
      ],
      "execution_count": null,
      "outputs": []
    },
    {
      "cell_type": "markdown",
      "metadata": {
        "id": "_qrjyNahn45Z"
      },
      "source": [
        "#main procedure\n"
      ]
    },
    {
      "cell_type": "code",
      "metadata": {
        "id": "3s6Qi7G1oqJ0"
      },
      "source": [
        "dict_prod_avg=create_avg_sell(sales)"
      ],
      "execution_count": null,
      "outputs": []
    },
    {
      "cell_type": "code",
      "metadata": {
        "id": "inU4Yh7fHcLt"
      },
      "source": [
        "sheets=source.sheet_names"
      ],
      "execution_count": null,
      "outputs": []
    },
    {
      "cell_type": "code",
      "metadata": {
        "colab": {
          "base_uri": "https://localhost:8080/",
          "height": 35
        },
        "id": "tZIUwM-vHez1",
        "outputId": "51391066-97c1-4130-fb0c-1c627a18feb1"
      },
      "source": [
        "sheets[0]"
      ],
      "execution_count": null,
      "outputs": [
        {
          "output_type": "execute_result",
          "data": {
            "application/vnd.google.colaboratory.intrinsic+json": {
              "type": "string"
            },
            "text/plain": [
              "'3'"
            ]
          },
          "metadata": {
            "tags": []
          },
          "execution_count": 15
        }
      ]
    },
    {
      "cell_type": "code",
      "metadata": {
        "id": "77iE6z8a_Btl"
      },
      "source": [
        "sheets=source.sheet_names\n",
        "for sheet in sheets:\n",
        "  df_current_sheet = source.parse(sheet_name=sheet)\n",
        "  list_sorted_sellout=create_top_products(df_current_sheet,dict_prod_avg)\n",
        "  week=df_current_sheet['Calendar Year/Week'][1]\n",
        "  df_weekly_sale = sales[sales['Calendar Year/Week']==week]\n",
        "  list_sell_ratio=create_sell_ratio(df_weekly_sale,list_sorted_sellout)\n",
        "  list_sorted_customer_earn=create_customer_list(df_weekly_sale)\n",
        "  output=[]\n",
        "  columns_names=['Week','Top_5_products','Average_sellout','Net_sell_ratios','To5_5_Customers','Customer_Earnings']\n",
        "  for i in range(5):\n",
        "    row = [week,list_sorted_sellout[i][0],list_sorted_sellout[i][1],list_sell_ratio[i],list_sorted_customer_earn[i][0],list_sorted_customer_earn[i][1]]\n",
        "    output.append(row)\n",
        "  df_top_5_NS= pd.DataFrame(output,columns=columns_names)\n",
        "  df_top_5_NS.to_excel(writer,sheet_name=str(week),index=False)\n",
        "\n"
      ],
      "execution_count": null,
      "outputs": []
    },
    {
      "cell_type": "code",
      "metadata": {
        "id": "JCbrieQ-BJET"
      },
      "source": [
        "writer.save()"
      ],
      "execution_count": null,
      "outputs": []
    }
  ]
}